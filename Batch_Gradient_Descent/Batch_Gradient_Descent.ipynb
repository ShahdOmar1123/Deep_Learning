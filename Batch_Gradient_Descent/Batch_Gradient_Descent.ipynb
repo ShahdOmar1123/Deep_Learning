{
  "nbformat": 4,
  "nbformat_minor": 0,
  "metadata": {
    "colab": {
      "provenance": []
    },
    "kernelspec": {
      "name": "python3",
      "display_name": "Python 3"
    },
    "language_info": {
      "name": "python"
    }
  },
  "cells": [
    {
      "cell_type": "code",
      "execution_count": 1,
      "metadata": {
        "id": "wQ3rosksEAPr"
      },
      "outputs": [],
      "source": [
        "import pandas as pd\n",
        "import numpy as np\n",
        "import matplotlib.pyplot as plt\n",
        "%matplotlib inline"
      ]
    },
    {
      "cell_type": "code",
      "source": [
        "data=pd.read_csv('/content/homeprices.csv')\n",
        "data.head()\n"
      ],
      "metadata": {
        "colab": {
          "base_uri": "https://localhost:8080/"
        },
        "id": "ed1kLqOYESQT",
        "outputId": "5abc38a1-b4fc-48ae-b152-f6c2a5a0f041"
      },
      "execution_count": 8,
      "outputs": [
        {
          "output_type": "execute_result",
          "data": {
            "text/plain": [
              "(6, 4)"
            ]
          },
          "metadata": {},
          "execution_count": 8
        }
      ]
    },
    {
      "cell_type": "code",
      "source": [
        "from sklearn import preprocessing\n",
        "sx = preprocessing.MinMaxScaler()\n",
        "sy = preprocessing.MinMaxScaler()\n",
        "\n",
        "scaled_X = sx.fit_transform(data.drop('price',axis='columns'))\n",
        "scaled_y = sy.fit_transform(data['price'].values.reshape(data.shape[0],1))\n",
        "\n",
        "scaled_X\n",
        "\n"
      ],
      "metadata": {
        "colab": {
          "base_uri": "https://localhost:8080/"
        },
        "id": "atV4AJVoE_St",
        "outputId": "8d8cbce2-09ea-4020-a64b-c8339f044d04"
      },
      "execution_count": 4,
      "outputs": [
        {
          "output_type": "execute_result",
          "data": {
            "text/plain": [
              "array([[0.        , 0.        , 0.54545455],\n",
              "       [0.26666667, 0.33333333, 0.31818182],\n",
              "       [0.4       , 0.        , 0.45454545],\n",
              "       [0.66666667, 0.        , 1.        ],\n",
              "       [0.93333333, 0.66666667, 0.        ],\n",
              "       [1.        , 1.        , 0.        ]])"
            ]
          },
          "metadata": {},
          "execution_count": 4
        }
      ]
    },
    {
      "cell_type": "code",
      "source": [
        "scaled_y"
      ],
      "metadata": {
        "colab": {
          "base_uri": "https://localhost:8080/"
        },
        "id": "7Zt2ufmyLCej",
        "outputId": "2dca7d87-b8fb-40eb-ace3-32d7c39f456c"
      },
      "execution_count": 5,
      "outputs": [
        {
          "output_type": "execute_result",
          "data": {
            "text/plain": [
              "array([[0.        ],\n",
              "       [0.05769231],\n",
              "       [0.23076923],\n",
              "       [0.17307692],\n",
              "       [0.80769231],\n",
              "       [1.        ]])"
            ]
          },
          "metadata": {},
          "execution_count": 5
        }
      ]
    },
    {
      "cell_type": "code",
      "source": [
        "scaled_y.reshape(6,)"
      ],
      "metadata": {
        "colab": {
          "base_uri": "https://localhost:8080/"
        },
        "id": "izmMkfp7LJMl",
        "outputId": "d1ea2578-7cd6-4212-e538-ea5fa2ef2528"
      },
      "execution_count": 9,
      "outputs": [
        {
          "output_type": "execute_result",
          "data": {
            "text/plain": [
              "array([0.        , 0.05769231, 0.23076923, 0.17307692, 0.80769231,\n",
              "       1.        ])"
            ]
          },
          "metadata": {},
          "execution_count": 9
        }
      ]
    },
    {
      "cell_type": "code",
      "source": [
        "def batch_gradient_descent(x,y,epochs,learning_rate=0.01):\n",
        "  number_features=x.shape[1]\n",
        "  w=np.ones(shape=(number_features))\n",
        "  b=0\n",
        "  total_samples=x.shape[0]\n",
        "  loss_list=[]\n",
        "  epochs_list=[]\n",
        "  for i in range(epochs):\n",
        "    y_predicted=np.dot(w,x.T)+b\n",
        "    w_grad=-(2/total_samples)*(x.T.dot(y-y_predicted))\n",
        "    b_grad=-(2/total_samples)*(np.sum(y-y_predicted))\n",
        "    w=w-learning_rate*w_grad\n",
        "    b=b-learning_rate*b_grad\n",
        "    loss=np.mean(np.square(y-y_predicted))\n",
        "    if i%10==0:\n",
        "      loss_list.append(loss)\n",
        "      epochs_list.append(i)\n",
        "  return w,b,loss,loss_list,epochs_list\n"
      ],
      "metadata": {
        "id": "DccxCgHuNlDm"
      },
      "execution_count": 14,
      "outputs": []
    },
    {
      "cell_type": "code",
      "source": [
        "w,b,loss,loss_list,epochs_list=batch_gradient_descent(scaled_X,scaled_y.reshape(scaled_y.shape[0],),100)\n",
        "w,b,loss"
      ],
      "metadata": {
        "colab": {
          "base_uri": "https://localhost:8080/"
        },
        "id": "to378SfHTbdn",
        "outputId": "ee70bc85-92f1-422e-bd34-a383f180cdb8"
      },
      "execution_count": 17,
      "outputs": [
        {
          "output_type": "execute_result",
          "data": {
            "text/plain": [
              "(array([0.67388408, 0.85223094, 0.69662788]),\n",
              " np.float64(-0.5184730627131874),\n",
              " np.float64(0.046988575349620455))"
            ]
          },
          "metadata": {},
          "execution_count": 17
        }
      ]
    },
    {
      "cell_type": "code",
      "source": [
        "plt.xlabel('epochs')\n",
        "plt.ylabel('loss')\n",
        "plt.plot(epochs_list,loss_list)"
      ],
      "metadata": {
        "colab": {
          "base_uri": "https://localhost:8080/",
          "height": 466
        },
        "id": "bG4ciYxnXoph",
        "outputId": "c16bc9e8-a81d-4d75-f7e1-7c7bfcdd0a9d"
      },
      "execution_count": 18,
      "outputs": [
        {
          "output_type": "execute_result",
          "data": {
            "text/plain": [
              "[<matplotlib.lines.Line2D at 0x7e76172f9c10>]"
            ]
          },
          "metadata": {},
          "execution_count": 18
        },
        {
          "output_type": "display_data",
          "data": {
            "text/plain": [
              "<Figure size 640x480 with 1 Axes>"
            ],
            "image/png": "[encoded data removed]"
          },
          "metadata": {}
        }
      ]
    },
    {
      "cell_type": "code",
      "source": [
        "def prediction(area,bedrooms,age,w,b):\n",
        "  scaled_X=sx.transform([[area,bedrooms,age]])[0]\n",
        "  scaled_price=w[0]*scaled_X[0]+w[1]*scaled_X[1]+b\n",
        "  return sy.inverse_transform([[scaled_price]])[0][0]\n",
        ""
      ],
      "metadata": {
        "id": "ZtnljIWYYBpL"
      },
      "execution_count": 23,
      "outputs": []
    },
    {
      "cell_type": "code",
      "source": [
        "prediction(3000,4,15,w,b)"
      ],
      "metadata": {
        "colab": {
          "base_uri": "https://localhost:8080/"
        },
        "id": "kCjFt-47asYC",
        "outputId": "ab60cc3f-e83a-44c5-e788-43dcbfd4aa35"
      },
      "execution_count": 27,
      "outputs": [
        {
          "output_type": "stream",
          "name": "stderr",
          "text": [
            "/usr/local/lib/python3.12/dist-packages/sklearn/utils/validation.py:2739: UserWarning: X does not have valid feature names, but MinMaxScaler was fitted with feature names\n",
            "  warnings.warn(\n"
          ]
        },
        {
          "output_type": "execute_result",
          "data": {
            "text/plain": [
              "np.float64(535779.6482177315)"
            ]
          },
          "metadata": {},
          "execution_count": 27
        }
      ]
    }
  ]
}